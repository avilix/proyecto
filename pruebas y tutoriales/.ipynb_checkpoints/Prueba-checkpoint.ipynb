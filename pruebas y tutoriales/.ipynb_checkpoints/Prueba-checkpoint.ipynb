{
 "cells": [
  {
   "cell_type": "markdown",
   "metadata": {},
   "source": [
    "Primero explico (o eso intento) lo que hizo el profe con el problema de Kepler. Hasta el final, intento adaptar el código para resolver el problema de los tres cuerpos."
   ]
  },
  {
   "cell_type": "code",
   "execution_count": 25,
   "metadata": {
    "collapsed": false
   },
   "outputs": [],
   "source": [
    "using TaylorSeries"
   ]
  },
  {
   "cell_type": "code",
   "execution_count": 26,
   "metadata": {
    "collapsed": false
   },
   "outputs": [],
   "source": [
    "using Compat"
   ]
  },
  {
   "cell_type": "code",
   "execution_count": 27,
   "metadata": {
    "collapsed": false
   },
   "outputs": [
    {
     "data": {
      "text/plain": [
       "1.0e-20"
      ]
     },
     "execution_count": 27,
     "metadata": {},
     "output_type": "execute_result"
    }
   ],
   "source": [
    "const _ordenTaylor = 28 #Entiendo que este se puede cambiar de acuerdo con el problema\n",
    "const _epsAbs = 1.0e-20 #Epsilon de la máquina."
   ]
  },
  {
   "cell_type": "code",
   "execution_count": 11,
   "metadata": {
    "collapsed": false
   },
   "outputs": [
    {
     "data": {
      "text/plain": [
       "taylorStepper (generic function with 1 method)"
      ]
     },
     "execution_count": 11,
     "metadata": {},
     "output_type": "execute_result"
    }
   ],
   "source": [
    "function taylorStepper{T<:Real}( jetEqs::Function, vec0::Array{T,1} ) #Las entradas serán una función y un vector \n",
    "    #cuyas entradas serán las condiciones iniciales de velocidad y posición en x y en y\n",
    "    n = length( vec0 )\n",
    "    vec0T = Array(Taylor1{T},n)\n",
    "    @simd for i in eachindex(vec0)\n",
    "        @inbounds vec0T[i] = Taylor1([vec0[i]], _ordenTaylor)\n",
    "    end\n",
    "    #Lo que entiendo de esta parte es que a cada entrada de vec0 se le convierte a formato de serie de Taylor.\n",
    "    #vec0T será un vector cuyas entradas son series de Taylor y las componentes independientes de cada uno de ellas\n",
    "    #son las componentes iniciales. Por ejemplo: vec0T=[x0+ ϑ(t²⁹),y0+ϑ(t²⁹),v0x+ϑ(t²⁹),v0y+ϑ(t²⁹)]\n",
    "    vec1T = jetEqs( vec0 )\n",
    "    #Aplicamos la función jetEqs a vec0.\n",
    "    #Creo que esta es la que va a construir el resto de los coeficientes de cada serie.\n",
    "    hh = Inf\n",
    "    @simd for i in eachindex(vec1T)\n",
    "        @inbounds h1 = stepsize( vec1T[i], _epsAbs ) #Stepsize regresa el error. Esta parte da un valor de h para \n",
    "        #cada una de las 4 series que se encuentran en el arreglo.\n",
    "        hh = min( hh, h1 ) #Supongo que esto es para asegurarnos que el valor h1 no sea infinito.\n",
    "    end\n",
    "    \n",
    "    @simd for i in eachindex(vec0)\n",
    "        @inbounds vec0[i] = evaluate( vec1T[i], hh ) #Evalúa vec1T (obtenido de Jeteqs) en el valor de error\n",
    "        #y lo coloca en la entrada correspondiente de vec0 (donde teníamos los valores iniciales). Supongo que ahora\n",
    "        #el vec0 es el valor de las posiciones y velocidades evaluadas en el tiempo hh. (es el primer avance en el\n",
    "        #tiempo)\n",
    "    end\n",
    "    \n",
    "    return hh, vec0\n",
    "end"
   ]
  },
  {
   "cell_type": "code",
   "execution_count": 12,
   "metadata": {
    "collapsed": false
   },
   "outputs": [
    {
     "data": {
      "text/plain": [
       "stepsize (generic function with 1 method)"
      ]
     },
     "execution_count": 12,
     "metadata": {},
     "output_type": "execute_result"
    }
   ],
   "source": [
    "#Calcula el tamaño del paso\n",
    "function stepsize{T<:Real}(x::Taylor1{T}, epsilon::Float64)\n",
    "    #Tiene como entradas una serie de Taylor y la epsilon de la máquina\n",
    "    ord = x.order\n",
    "    h = Inf\n",
    "    for k in [ord-1, ord] #De las dos últimas entradas \n",
    "        kinv = 1.0/k\n",
    "        aux = abs(x.coeffs[k+1])\n",
    "        h = min(h, (epsilon/aux)^kinv)\n",
    "        #Literalmente sigue la fórmula del valor h\n",
    "    end\n",
    "    return h\n",
    "end"
   ]
  },
  {
   "cell_type": "code",
   "execution_count": 13,
   "metadata": {
    "collapsed": false
   },
   "outputs": [
    {
     "data": {
      "text/plain": [
       "jet (generic function with 2 methods)"
      ]
     },
     "execution_count": 13,
     "metadata": {},
     "output_type": "execute_result"
    }
   ],
   "source": [
    "function jet{T<:Real}( vec::Array{T,1} )\n",
    "\n",
    "    xT = Taylor1(vec[1], _ordenTaylor)\n",
    "    yT = Taylor1(vec[2], _ordenTaylor)\n",
    "    vxT = Taylor1(vec[3], _ordenTaylor)\n",
    "    vyT = Taylor1(vec[4], _ordenTaylor)\n",
    "    #Se guardan los valores iniciales en el lugar del término independiente. Pero a medida que avanza el loop de\n",
    "    #abajo, se van llenando en estas variables, el resto de los términos de la serie de Taylor.\n",
    "    for k = 0:_ordenTaylor-1\n",
    "        knext = k+1 #Esto se necesita por el hecho de empezar desde cero.\n",
    "\n",
    "        xTt = Taylor1( xT.coeffs[1:k+1], k) #Se \"copian\" los términos de la serie que ya se tenían\n",
    "        yTt = Taylor1( yT.coeffs[1:k+1], k)\n",
    "        vxTt = Taylor1( vxT.coeffs[1:k+1], k)\n",
    "        vyTt = Taylor1( vyT.coeffs[1:k+1], k)\n",
    "        \n",
    "        xDot = vxTt #Se escriben las ecuaciones de movimiento.\n",
    "        yDot = vyTt\n",
    "        rrt = ( xTt^2 + yTt^2 )^(3/2)\n",
    "        vxDot = -GM * ((xTt / rrt)-\n",
    "        vyDot = -GM * yTt / rrt\n",
    "        \n",
    "        xT.coeffs[knext+1]  = xDot.coeffs[knext] / knext #Con formulazo, se calculan los siguientes coeficientes de \n",
    "        yT.coeffs[knext+1]  = yDot.coeffs[knext] / knext #cada serie.\n",
    "        vxT.coeffs[knext+1] = vxDot.coeffs[knext] / knext\n",
    "        vyT.coeffs[knext+1] = vyDot.coeffs[knext] / knext\n",
    "    end\n",
    "    \n",
    "    return Taylor1[ xT, yT, vxT, vyT ]\n",
    "end"
   ]
  },
  {
   "cell_type": "code",
   "execution_count": 14,
   "metadata": {
    "collapsed": false
   },
   "outputs": [
    {
     "data": {
      "text/plain": [
       "keplerIntegration (generic function with 1 method)"
      ]
     },
     "execution_count": 14,
     "metadata": {},
     "output_type": "execute_result"
    }
   ],
   "source": [
    "function keplerIntegration( a::Float64, e::Float64, time_max::Float64, jetEqs::Function )\n",
    "    # Initial conditions, energy and angular momentum\n",
    "    t0 = 0.0\n",
    "    x0, y0, vx0, vy0 = iniCond(a, e)\n",
    "    ene0 = energy(x0, y0, vx0, vy0)\n",
    "    lz0 = lz1(x0, y0, vx0, vy0)\n",
    "    \n",
    "    # Change, measured in the local `eps` of the change of energy and angular momentum\n",
    "    eps_ene = eps(ene0); dEne = zero(Int64)\n",
    "    eps_lz = eps(lz0); dLz = zero(Int64)\n",
    "    \n",
    "    # Vectors to plot the orbit with PyPlot\n",
    "    tV, xV, yV, vxV, vyV = Float64[], Float64[], Float64[], Float64[], Float64[]\n",
    "    DeneV, DlzV = Int64[], Int64[]\n",
    "    push!(tV, t0)\n",
    "    push!(xV, x0)\n",
    "    push!(yV, y0)\n",
    "    push!(vxV, vx0)\n",
    "    push!(vyV, vy0)\n",
    "    push!(DeneV, zero(Int64))\n",
    "    push!(DlzV, zero(Int64))\n",
    "    \n",
    "    # This is the main loop; we include a minimum step size for security\n",
    "    dt = 1.0\n",
    "    while t0 < time_max && dt>1.0e-8\n",
    "        # Here we integrate\n",
    "        dt, (x1, y1, vx1, vy1) = taylorStepper( jetEqs, [x0, y0, vx0, vy0] ); #Hacer esto una vez significa obtener\n",
    "        #las series evaluadas en el tiempo t0. Se obtienen velocidades y posiciones en x y en y.\n",
    "        t0 += dt #Avanzar en el tiempo y volverlo a hacer (con el while)\n",
    "        push!(tV,t0) #Supongo que ir llenando los arrays\n",
    "        push!(xV,x1)\n",
    "        push!(yV,y1)\n",
    "        push!(vxV, vx1)\n",
    "        push!(vyV, vy1)\n",
    "      \n",
    "        eneEnd = energy(x1, y1, vx1, vy1) #esta parte calcula energía, momento y creo que otras cosas en el tiempo t\n",
    "        lzEnd = lz1(x1, y1, vx1, vy1)\n",
    "        dEne = trunc( Int, (eneEnd-ene0)/eps_ene )\n",
    "        dLz  = trunc( Int, (lzEnd-lz0)/eps_lz )\n",
    "        push!(DeneV, dEne)\n",
    "        push!(DlzV, dLz)\n",
    "        x0, y0, vx0, vy0 = x1, y1, vx1, vy1\n",
    "    end\n",
    "\n",
    "    return tV, xV, yV, DeneV, DlzV\n",
    "end"
   ]
  },
  {
   "cell_type": "markdown",
   "metadata": {
    "collapsed": false
   },
   "source": [
    "# Problema de los tres cuerpos."
   ]
  },
  {
   "cell_type": "markdown",
   "metadata": {
    "collapsed": false
   },
   "source": [
    "Quizá es algo tonto volver a copiar y pegar todo. Pero no quise modificar lo que ya había entendido.\n",
    "Quiero resolver el problema de los tres cuerpos ¿restringido? (restricted three body problem). Consideremos tres masas que interactúan gravitacionalmente. Digamos, M1,M2 y m. Si m es mucho más pequeña que M1 y M2, tenemos el \"restricted three body problem\"."
   ]
  },
  {
   "cell_type": "code",
   "execution_count": 15,
   "metadata": {
    "collapsed": false
   },
   "outputs": [
    {
     "data": {
      "text/plain": [
       "iniCond3 (generic function with 1 method)"
      ]
     },
     "execution_count": 15,
     "metadata": {},
     "output_type": "execute_result"
    }
   ],
   "source": [
    "function iniCond1{T<:Real}(a::T) #En realidad no importa cuanto sea a\n",
    "    x01=5.0\n",
    "    y01=10.0\n",
    "    vx01=0.0\n",
    "    vy01=0.0 #Me pareció que por simplicidad podría poner a uno de los cuerpos en el origen\n",
    "    return x01,y01,vx01,vy01\n",
    "end\n",
    "\n",
    "function iniCond2{T<:Real}(a::T)\n",
    "    x02=10.0 #El siguiente a una distancia de 10 (km/cm/metros... ya lo decidiré después)\n",
    "    y02=10.0\n",
    "    vx02=0.0\n",
    "    vy02=0.0\n",
    "    return x02,y02,vx02,vy02\n",
    "end\n",
    "\n",
    "function iniCond3{T<:Real}(a::T)\n",
    "    x03=7.5#El cuerpo pequeño lo ponemos en algún lugar entre M1 y M2.Probemos primero ponerlo, justamente enmedio.\n",
    "    y03=15.0\n",
    "    vx03=0.0\n",
    "    vy03=0.0\n",
    "    return x03,y03,vx03,vy03\n",
    "end  "
   ]
  },
  {
   "cell_type": "code",
   "execution_count": 16,
   "metadata": {
    "collapsed": false
   },
   "outputs": [
    {
     "data": {
      "text/plain": [
       "1.0"
      ]
     },
     "execution_count": 16,
     "metadata": {},
     "output_type": "execute_result"
    }
   ],
   "source": [
    "const _ordenTaylor = 28 \n",
    "const _epsAbXs = 1.0e-20 \n",
    "GM1=1.0 #También por simplicidad comenzaré diciendo que esto es uno.\n",
    "GM2=1.0 #Y que ambos cuerpos masivos tienen la misma masa. La masa m3 no afecta en el movimiento pues m3<<M1, M2"
   ]
  },
  {
   "cell_type": "code",
   "execution_count": 17,
   "metadata": {
    "collapsed": false
   },
   "outputs": [
    {
     "data": {
      "text/plain": [
       "taylorStepper (generic function with 2 methods)"
      ]
     },
     "execution_count": 17,
     "metadata": {},
     "output_type": "execute_result"
    }
   ],
   "source": [
    "function taylorStepper{T<:Real}( jetEqs::Function, vec01::Array{T,1},vec02::Array{T,1},vec03::Array{T,1}) \n",
    "    #Las entradas serán una función y tres vectores \n",
    "    #cuyas entradas serán las condiciones iniciales de velocidad y posición en x y en y\n",
    "    #s sólo debe estar entre 1,2 ó 3\n",
    "\n",
    "    n = length( vec01 )\n",
    "    vec0T1 = Array(Taylor1{T},n)\n",
    "    vec0T2 = Array(Taylor1{T},n)\n",
    "    vec0T3 = Array(Taylor1{T},n)\n",
    "   \n",
    "    @simd for i in eachindex(vec01)\n",
    "        @inbounds vec0T1[i] = Taylor1([vec01[i]], _ordenTaylor)\n",
    "    end\n",
    "     \n",
    "    @simd for i in eachindex(vec02)\n",
    "        @inbounds vec0T2[i] = Taylor1([vec02[i]], _ordenTaylor)\n",
    "    end\n",
    "     \n",
    "    @simd for i in eachindex(vec03)\n",
    "        @inbounds vec0T3[i] = Taylor1([vec03[i]], _ordenTaylor)\n",
    "    end\n",
    "    #Lo que entiendo de esta parte es que a cada entrada de vec0 se le convierte a formato de serie de Taylor.\n",
    "    #vec0T será un vector cuyas entradas son series de Taylor y las componentes independientes de cada uno de ellas\n",
    "    #son las componentes iniciales. Por ejemplo: vec0T=[x0+ ϑ(t²⁹),y0+ϑ(t²⁹),v0x+ϑ(t²⁹),v0y+ϑ(t²⁹)]\n",
    "    vec1T1,vec1T2,vec1T3 = jetEqs( vec01,vec02,vec02 )\n",
    "    #Aplicamos la función jetEqs a vec0.\n",
    "    #Creo que esta es la que va a construir el resto de los coeficientes de cada serie.\n",
    "    hh = Inf\n",
    "    @simd for i in eachindex(vec1T1)\n",
    "        @inbounds h1 = stepsize( vec1T1[i], _epsAbs ) #Stepsize regresa el error. Esta parte da un valor de h para \n",
    "        #cada una de las 4 series que se encuentran en el arreglo.\n",
    "        hh= min( hh, h1 ) #Supongo que esto es para asegurarnos que el valor h1 no sea infinito.\n",
    "    end\n",
    "    hh1=hh\n",
    "    hh = Inf\n",
    "    @simd for i in eachindex(vec1T2)\n",
    "        @inbounds h1= stepsize( vec1T2[i], _epsAbs )  \n",
    "        hh= min( hh, h1 ) \n",
    "    end\n",
    "    hh2=hh\n",
    "    hh = Inf\n",
    "    @simd for i in eachindex(vec1T3)\n",
    "        @inbounds h1= stepsize( vec1T3[i], _epsAbs )  \n",
    "        hh= min( hh, h1 ) \n",
    "    end\n",
    "    hd=min(hh1,hh2,hh)\n",
    "    \n",
    "    @simd for i in eachindex(vec01)\n",
    "        @inbounds vec01[i] = evaluate( vec1T1[i], hd ) #Evalúa vec1T (obtenido de Jeteqs) en el valor de error\n",
    "        #y lo coloca en la entrada correspondiente de vec0 (donde teníamos los valores iniciales). Supongo que ahora\n",
    "        #el vec0 es el valor de las posiciones y velocidades evaluadas en el tiempo hh. (es el primer avance en el\n",
    "        #tiempo)\n",
    "    end\n",
    "    \n",
    "    @simd for i in eachindex(vec02)\n",
    "        @inbounds vec02[i] = evaluate(vec1T2[i], hd)\n",
    "    end\n",
    "\n",
    "    @simd for i in eachindex(vec03)\n",
    "        @inbounds vec03[i] = evaluate( vec1T3[i], hd)\n",
    "    end\n",
    "    \n",
    "    return hd,vec01,vec02,vec03 #El paso del tiempo es el promedio del paso ideal para los 3 cuerpos.\n",
    "end\n",
    "#Importante saber: Esta función regresa el paso de tiempo y los vectores de velocidades y posiciones de cada masa\n",
    "#Evaluados en ese paso de tiempo."
   ]
  },
  {
   "cell_type": "code",
   "execution_count": 18,
   "metadata": {
    "collapsed": false
   },
   "outputs": [
    {
     "data": {
      "text/plain": [
       "stepsize (generic function with 1 method)"
      ]
     },
     "execution_count": 18,
     "metadata": {},
     "output_type": "execute_result"
    }
   ],
   "source": [
    "#Aquí no hay que hacer cambios.\n",
    "#Calcula el tamaño del paso\n",
    "function stepsize{T<:Real}(x::Taylor1{T}, epsilon::Float64)\n",
    "    #Tiene como entradas una serie de Taylor y la epsilon de lxa máquina\n",
    "    ord = x.order\n",
    "    h = Inf\n",
    "    for k in [ord-1, ord] #De las dos últimas entradas \n",
    "        kinv = 1.0/k\n",
    "        aux = abs(x.coeffs[k+1])\n",
    "        h = min(h, (epsilon/aux)^kinv)\n",
    "        #Literalmente sigue la fórmula del valor h\n",
    "    end\n",
    "    return h\n",
    "end"
   ]
  },
  {
   "cell_type": "code",
   "execution_count": 32,
   "metadata": {
    "collapsed": false
   },
   "outputs": [
    {
     "data": {
      "text/plain": [
       "jet (generic function with 2 methods)"
      ]
     },
     "execution_count": 32,
     "metadata": {},
     "output_type": "execute_result"
    }
   ],
   "source": [
    "#Aquí hay que cambiar que en vez de una variable de posición en x, tenemos 3; lo mismo para las posiciones en y \n",
    "#y las velocidades en x y en y\n",
    "\n",
    "function jet{T<:Real}(vec1::Array{T,1}, vec2::Array{T,1}, vec3::Array{T,1}) #Hay tres vectores de entrada.\n",
    "\n",
    "    xT1= Taylor1(vec1[1], _ordenTaylor) #Del primer cuerpo M1\n",
    "    yT1= Taylor1(vec1[2], _ordenTaylor)\n",
    "    vxT1= Taylor1(vec1[3], _ordenTaylor)\n",
    "    vyT1= Taylor1(vec1[4], _ordenTaylor)\n",
    "    \n",
    "    xT2= Taylor1(vec2[1], _ordenTaylor) #Del segundo M2\n",
    "    yT2= Taylor1(vec2[2], _ordenTaylor)\n",
    "    vxT2= Taylor1(vec2[3], _ordenTaylor)\n",
    "    vyT2= Taylor1(vec2[4], _ordenTaylor)\n",
    "\n",
    "    xT3= Taylor1(vec3[1], _ordenTaylor) #Del tercero m3 (el orden realmente no importa jeje)\n",
    "    yT3= Taylor1(vec3[2], _ordenTaylor)\n",
    "    vxT3= Taylor1(vec3[3], _ordenTaylor)\n",
    "    vyT3= Taylor1(vec3[4], _ordenTaylor)\n",
    "    #Se guardan los valores iniciales en el lugar del término independiente. Pero a medida que avanza el loop de\n",
    "    #abajo, se van llenando en estas variables, el resto de los términos de la serie de Taylor.\n",
    "    for k = 0:_ordenTaylor-1\n",
    "        knext = k+1 #Esto se necesita por el hecho de empezar desde cero.\n",
    "\n",
    "        xTt1= Taylor1(xT1.coeffs[1:k+1], k) #Se \"copian\" los términos de la serie que ya se tenían\n",
    "        yTt1= Taylor1(yT1.coeffs[1:k+1], k)\n",
    "        vxTt1= Taylor1(vxT1.coeffs[1:k+1], k)\n",
    "        vyTt1= Taylor1(vyT1.coeffs[1:k+1], k)\n",
    "        \n",
    "        xTt2= Taylor1(xT2.coeffs[1:k+1], k) \n",
    "        yTt2= Taylor1(yT2.coeffs[1:k+1], k)\n",
    "        vxTt2= Taylor1(vxT2.coeffs[1:k+1], k)\n",
    "        vyTt2= Taylor1(vyT2.coeffs[1:k+1], k) \n",
    "        \n",
    "        xTt3= Taylor1(xT3.coeffs[1:k+1], k) \n",
    "        yTt3= Taylor1(yT3.coeffs[1:k+1], k)\n",
    "        vxTt3= Taylor1(vxT3.coeffs[1:k+1], k)\n",
    "        vyTt3= Taylor1(vyT3.coeffs[1:k+1], k)\n",
    "        \n",
    "        \n",
    "        xDot1 = vxTt1 #Las ecuaciones\n",
    "        yDot1 = vyTt1\n",
    "        rrt1 = ( (xTt1-xTt2)^2 + (yTt1-yTt2)^2 )^(3/2)\n",
    "        vxDot1 = -GM2*(xTt1-xTt2) / rrt1\n",
    "        vyDot1 = -GM2 *(yTt1-yTt2) / rrt1\n",
    "        \n",
    "                \n",
    "        xDot2 = vxTt2 #Ojo:cambiar esta parte si quisiera modificar el código para que M1 y M2 fueran distintas.\n",
    "        yDot2 = vyTt2 #Lo puse así para que la compu no calculara algo que ya estaba calculado.\n",
    "        vxDot2 = -vxDot1\n",
    "        vyDot2 = -vyDot1\n",
    "        \n",
    "                        \n",
    "        xDot3 = vxTt3\n",
    "        yDot3 = vyTt3 \n",
    "        rrt3a=((xTt3-xTt1)^2 + (yTt3-yTt1)^2 )^(3/2)\n",
    "        rrt3b=((xTt3-xTt2)^2 + (yTt3-yTt2)^2 )^(3/2)\n",
    "        vxDot3 = -GM1*(((xTt3-xTt1)/ rrt3a)-((xTt3-xTt1)/ rrt3b)) #También cambiar esta parte. Agregar GM2.\n",
    "        vyDot3 = -GM1*(((yTt3-yTt1)/ rrt3a)-((yTt3-yTt1)/ rrt3b)) \n",
    "        \n",
    "        xT1.coeffs[knext+1]  = xDot1.coeffs[knext] / knext \n",
    "        yT1.coeffs[knext+1]  = yDot1.coeffs[knext] / knext \n",
    "        vxT1.coeffs[knext+1] = vxDot1.coeffs[knext] / knext\n",
    "        vyT1.coeffs[knext+1] = vyDot1.coeffs[knext] / knext\n",
    "        \n",
    "                \n",
    "        xT2.coeffs[knext+1]  = xDot2.coeffs[knext] / knext \n",
    "        yT2.coeffs[knext+1]  = yDot2.coeffs[knext] / knext \n",
    "        vxT2.coeffs[knext+1] = vxDot2.coeffs[knext] / knext\n",
    "        vyT2.coeffs[knext+1] = vyDot2.coeffs[knext] / knext\n",
    "        \n",
    "                \n",
    "        xT3.coeffs[knext+1]  = xDot3.coeffs[knext] / knext  \n",
    "        yT3.coeffs[knext+1]  = yDot3.coeffs[knext] / knext \n",
    "        vxT3.coeffs[knext+1] = vxDot3.coeffs[knext] / knext\n",
    "        vyT3.coeffs[knext+1] = vyDot3.coeffs[knext] / knext\n",
    "    end\n",
    "    \n",
    "    return Taylor1[ xT1, yT1, vxT1, vyT1 ], Taylor1[ xT2, yT2, vxT2, vyT2 ], Taylor1[ xT3, yT3, vxT3, vyT3 ]\n",
    "end\n",
    "# Importante saber: esta función me sirve para taylorstepper"
   ]
  },
  {
   "cell_type": "code",
   "execution_count": 20,
   "metadata": {
    "collapsed": false
   },
   "outputs": [
    {
     "data": {
      "text/plain": [
       "Integration (generic function with 1 method)"
      ]
     },
     "execution_count": 20,
     "metadata": {},
     "output_type": "execute_result"
    }
   ],
   "source": [
    "function Integration(time_max::Float64, jetEqs::Function)\n",
    "    # Por ahora no incluí la energía ni el momento angular. Después lo incluiré de ser necesario.\n",
    "    t0 = 0.0\n",
    "    x01, y01, vx01, vy01 = iniCond1(1) #Definí la función iniCond sólo para no tener que poner tantas variables\n",
    "    x02, y02, vx02, vy02 = iniCond2(1) #como argumento de la funcíón keplerIntegration. \n",
    "    x03, y03, vx03, vy03 = iniCond3(1) \n",
    "   \n",
    "    #Para graficar con Pyplot\n",
    "    tV,xV1, yV1, vxV1, vyV1 = Float64[], Float64[], Float64[], Float64[], Float64[]\n",
    "    xV2, yV2, vxV2, vyV2 = Float64[], Float64[], Float64[], Float64[]\n",
    "    xV3, yV3, vxV3, vyV3 = Float64[], Float64[], Float64[], Float64[]\n",
    "    \n",
    "    push!(tV, t0) #Será que todas las series tienen el mismo paso de tiempo?\n",
    "    push!(xV1, x01)\n",
    "    push!(yV1, y01)\n",
    "    push!(vxV1, vx01)\n",
    "    push!(vyV1, vy01)\n",
    "    push!(xV2, x02)\n",
    "    push!(yV2, y02)\n",
    "    push!(vxV2, vx02)\n",
    "    push!(vyV2, vy02)\n",
    "    push!(xV3, x03)\n",
    "    push!(yV3, y03)\n",
    "    push!(vxV3, vx03)\n",
    "    push!(vyV3, vy03)\n",
    "    \n",
    "    A1=[x01, y01, vx01, vy01]\n",
    "    A2=[x02, y02, vx02, vy02]\n",
    "    A3=[x03, y03, vx03, vy03]\n",
    "    dt= 1.0 \n",
    "    while t0< time_max && dt>1.0e-8\n",
    "        dt, (x1, y1, vx1, vy1),(x2, y2, vx2, vy2),(x3, y3, vx3, vy3) = taylorStepper(jetEqs,A1,A2,A3); #obtener\n",
    "        #las series evaluadas en el tiempo t0. Se obtienen velocidades y posiciones en x y en y. También da h\n",
    "        t0 += dt #Avanzar en el tiempo y volverlo a hacer (con el while)\n",
    "        push!(tV,t0) #Ir llenando las listas\n",
    "        push!(xV1,x1)\n",
    "        push!(yV1,y1)\n",
    "        push!(vxV1,vx1)\n",
    "        push!(vyV1,vy1)\n",
    "        A1=[x1,y1,vx1,vy1]\n",
    "        push!(xV2,x2)\n",
    "        push!(yV2,y2)\n",
    "        push!(vxV2,vx2)\n",
    "        push!(vyV2,vy2)\n",
    "        A2=[x2,y2,vx2,vy2]       \n",
    "        push!(xV3,x3)\n",
    "        push!(yV3,y3)\n",
    "        push!(vxV3,vx3)\n",
    "        push!(vyV3,vy3)\n",
    "        A2=[x3,y3,vx3,vy3]\n",
    "    end\n",
    "\n",
    "    return tV,xV1,yV1,xV2,yV2,xV3,yV3\n",
    "end"
   ]
  },
  {
   "cell_type": "code",
   "execution_count": 33,
   "metadata": {
    "collapsed": false
   },
   "outputs": [
    {
     "ename": "LoadError",
     "evalue": "ArgumentError(\"Division does not define a Taylor1 polynomial\\n        or its first non-zero coefficient is Inf/NaN.\\n        Order k=0 => coeff[1]=Inf.\\n\")\nwhile loading In[33], in expression starting on line 1",
     "output_type": "error",
     "traceback": [
      "ArgumentError(\"Division does not define a Taylor1 polynomial\\n        or its first non-zero coefficient is Inf/NaN.\\n        Order k=0 => coeff[1]=Inf.\\n\")\nwhile loading In[33], in expression starting on line 1",
      "",
      " in divfactorization at /home/silvia/.julia/v0.3/TaylorSeries/src/Taylor1.jl:228",
      " in / at /home/silvia/.julia/v0.3/TaylorSeries/src/Taylor1.jl:203",
      " in jet at In[32]:58",
      " in taylorStepper at In[17]:25",
      " in Integration at In[20]:32"
     ]
    }
   ],
   "source": [
    "tV, xV1, yV1, xV2, yV2, xV3, yV3  = Integration(2pi, jet)"
   ]
  },
  {
   "cell_type": "code",
   "execution_count": 22,
   "metadata": {
    "collapsed": false
   },
   "outputs": [
    {
     "data": {
      "text/plain": [
       "iniCond3 (generic function with 1 method)"
      ]
     },
     "execution_count": 22,
     "metadata": {},
     "output_type": "execute_result"
    }
   ],
   "source": [
    "function iniCond2{T<:Real}(a::T)\n",
    "    x02=10.0 #El siguiente a una distancia de 10 (km/cm/metros... ya lo decidiré después)\n",
    "    y02=10.0\n",
    "    vx02=0.0\n",
    "    vy02=0.0\n",
    "    return x02,y02,vx02,vy02\n",
    "end\n",
    "\n",
    "function iniCond3{T<:Real}(a::T)\n",
    "    x03=7.5#El cuerpo pequeño lo ponemos en algún lugar entre M1 y M2.Probemos primero ponerlo, justamente enmedio.\n",
    "    y03=15.0\n",
    "    vx03=0.0\n",
    "    vy03=0.0\n",
    "    return x03,y03,vx03,vy03\n",
    "end  "
   ]
  },
  {
   "cell_type": "code",
   "execution_count": 23,
   "metadata": {
    "collapsed": false
   },
   "outputs": [
    {
     "data": {
      "text/plain": [
       " 0 + 𝒪(t²⁹)"
      ]
     },
     "execution_count": 23,
     "metadata": {},
     "output_type": "execute_result"
    }
   ],
   "source": [
    "xT2= Taylor1(10.0, _ordenTaylor) #Del segundo M2\n",
    "yT2= Taylor1(10.0, _ordenTaylor)\n",
    "vxT2= Taylor1(0.0, _ordenTaylor)\n",
    "vyT2= Taylor1(0.0, _ordenTaylor)\n",
    "\n",
    "xT3= Taylor1(7.5, _ordenTaylor) #Del tercero m3 (el orden realmente no importa jeje)\n",
    "yT3= Taylor1(15.0, _ordenTaylor)\n",
    "vxT3= Taylor1(0, _ordenTaylor)\n",
    "vyT3= Taylor1(0, _ordenTaylor)"
   ]
  },
  {
   "cell_type": "code",
   "execution_count": 24,
   "metadata": {
    "collapsed": false
   },
   "outputs": [
    {
     "data": {
      "text/plain": [
       " 174.69281074217108 + 𝒪(t²⁹)"
      ]
     },
     "execution_count": 24,
     "metadata": {},
     "output_type": "execute_result"
    }
   ],
   "source": [
    "rr3b=((xT3-xT2)^2 + (yT3-yT2)^2 )^(3/2)"
   ]
  },
  {
   "cell_type": "code",
   "execution_count": null,
   "metadata": {
    "collapsed": true
   },
   "outputs": [],
   "source": []
  }
 ],
 "metadata": {
  "kernelspec": {
   "display_name": "Julia 0.3.11",
   "language": "julia",
   "name": "julia-0.3"
  },
  "language_info": {
   "file_extension": ".jl",
   "mimetype": "application/julia",
   "name": "julia",
   "version": "0.3.11"
  }
 },
 "nbformat": 4,
 "nbformat_minor": 0
}
