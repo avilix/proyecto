{
 "cells": [
  {
   "cell_type": "code",
   "execution_count": 1,
   "metadata": {
    "collapsed": true
   },
   "outputs": [],
   "source": [
    "using TaylorSeries"
   ]
  },
  {
   "cell_type": "code",
   "execution_count": 2,
   "metadata": {
    "collapsed": false
   },
   "outputs": [
    {
     "name": "stdout",
     "output_type": "stream",
     "text": [
      " Taylor order = 28\n",
      " Eps = 1.0e-20\n",
      "\n"
     ]
    }
   ],
   "source": [
    "# Parámetros para el integrador de Taylor\n",
    "const _ordenTaylor = 28\n",
    "const _epsAbs = 1.0e-20\n",
    "\n",
    "println(\" Taylor order = $_ordenTaylor\\n Eps = $_epsAbs\\n\")"
   ]
  },
  {
   "cell_type": "code",
   "execution_count": 3,
   "metadata": {
    "collapsed": false
   },
   "outputs": [
    {
     "data": {
      "text/plain": [
       "taylorStepper (generic function with 1 method)"
      ]
     },
     "execution_count": 3,
     "metadata": {},
     "output_type": "execute_result"
    }
   ],
   "source": [
    "# Returns stepsize of the integration and a vector with the updated values of the dependent\n",
    "#  variables\n",
    "function taylorStepper{T<:Real}( jetEqs::Function, vec0::Array{T,1} )\n",
    "    \n",
    "    n = length( vec0 )\n",
    "\n",
    "    vec0T = Array(Taylor1{T},n)\n",
    "    @simd for i in eachindex(vec0)\n",
    "        @inbounds vec0T[i] = Taylor1([vec0[i]], _ordenTaylor)\n",
    "    end\n",
    "\n",
    "    # Jets\n",
    "    vec1T = jetEqs( vec0 )\n",
    "    \n",
    "    # Step-size\n",
    "    hh = Inf\n",
    "    for i in eachindex(vec1T)\n",
    "        @inbounds h1 = stepsize( vec1T[i], _epsAbs )\n",
    "        hh = min( hh, h1 )\n",
    "    end\n",
    "    \n",
    "    # Values at t0+h\n",
    "    @simd for i in eachindex(vec0)\n",
    "        @inbounds vec0[i] = evaluate( vec1T[i], hh )\n",
    "    end\n",
    "    \n",
    "    return hh, vec0\n",
    "end"
   ]
  },
  {
   "cell_type": "code",
   "execution_count": 4,
   "metadata": {
    "collapsed": false
   },
   "outputs": [
    {
     "data": {
      "text/plain": [
       "stepsize (generic function with 1 method)"
      ]
     },
     "execution_count": 4,
     "metadata": {},
     "output_type": "execute_result"
    }
   ],
   "source": [
    "\n",
    "# Returns the maximum step size from epsilon and the last two coefficients of the x-Taylor series \n",
    "function stepsize{T<:Real}(x::Taylor1{T}, epsilon::Float64)\n",
    "    ord = x.order\n",
    "    h = Inf\n",
    "    for k in [ord-1, ord]\n",
    "        kinv = 1.0/k\n",
    "        aux = abs( x.coeffs[k+1] )\n",
    "        h = min(h, (epsilon/aux)^kinv)\n",
    "    end\n",
    "    return h\n",
    "end"
   ]
  },
  {
   "cell_type": "code",
   "execution_count": 5,
   "metadata": {
    "collapsed": false
   },
   "outputs": [
    {
     "name": "stdout",
     "output_type": "stream",
     "text": [
      " mass = 1.0\n",
      " a = 1.0\n",
      " e = 0.8\n",
      "\n"
     ]
    }
   ],
   "source": [
    "const mu = GM = 1.0\n",
    "\n",
    "const masa = 1.0\n",
    "const semieje = 1.0\n",
    "const excentricidad = 0.8\n",
    "\n",
    "println(\" mass = $masa\\n a = $semieje\\n e = $excentricidad\\n\")"
   ]
  },
  {
   "cell_type": "code",
   "execution_count": 6,
   "metadata": {
    "collapsed": false
   },
   "outputs": [
    {
     "data": {
      "text/plain": [
       "energy (generic function with 2 methods)"
      ]
     },
     "execution_count": 6,
     "metadata": {},
     "output_type": "execute_result"
    }
   ],
   "source": [
    "function energy{T<:Real}( x::T, y::T, vx::T, vy::T )\n",
    "    eneCin = 0.5*(vx*vx + vy*vy)\n",
    "    r = sqrt( x*x + y*y)\n",
    "    enePot = -GM*masa/r\n",
    "    return eneCin + enePot\n",
    "end\n",
    "energy{T<:Real}(a::T) = - 0.5*GM*masa/a"
   ]
  },
  {
   "cell_type": "code",
   "execution_count": 7,
   "metadata": {
    "collapsed": false
   },
   "outputs": [
    {
     "data": {
      "text/plain": [
       "lz1 (generic function with 1 method)"
      ]
     },
     "execution_count": 7,
     "metadata": {},
     "output_type": "execute_result"
    }
   ],
   "source": [
    "\n",
    "lz{T<:Real}( a::T, e::T ) = masa * sqrt( GM*a*(1-e^2) )\n",
    "lz1{T<:Real}( x::T, y::T, vx::T, vy::T ) = masa*( x*vy - y*vx )"
   ]
  },
  {
   "cell_type": "code",
   "execution_count": 8,
   "metadata": {
    "collapsed": false
   },
   "outputs": [
    {
     "data": {
      "text/plain": [
       "iniCond (generic function with 1 method)"
      ]
     },
     "execution_count": 8,
     "metadata": {},
     "output_type": "execute_result"
    }
   ],
   "source": [
    "\n",
    "function iniCond{T<:Real}(a::T, e::T)\n",
    "    x0  = a*(1-e)\n",
    "    vy0 = lz(a, e) / x0\n",
    "    y0  = zero(vy0)\n",
    "    vx0 = zero(vy0)\n",
    "    return x0, y0, vx0, vy0\n",
    "end"
   ]
  },
  {
   "cell_type": "code",
   "execution_count": 9,
   "metadata": {
    "collapsed": false
   },
   "outputs": [
    {
     "data": {
      "text/plain": [
       "jetKepler1 (generic function with 1 method)"
      ]
     },
     "execution_count": 9,
     "metadata": {},
     "output_type": "execute_result"
    }
   ],
   "source": [
    "function jetKepler1{T<:Real}( vec::Array{T,1} )\n",
    "\n",
    "    xT = Taylor1(vec[1], _ordenTaylor)\n",
    "    yT = Taylor1(vec[2], _ordenTaylor)\n",
    "    vxT = Taylor1(vec[3], _ordenTaylor)\n",
    "    vyT = Taylor1(vec[4], _ordenTaylor)\n",
    "\n",
    "\n",
    "    for k = 0:_ordenTaylor-1\n",
    "        knext = k+1\n",
    "        # Taylor expansions up to order k\n",
    "        # This part makes it somewhat slower the implementations, since there\n",
    "        # are many operations which are completly superflous\n",
    "        xTt = Taylor1( xT.coeffs[1:k+1], k)\n",
    "        yTt = Taylor1( yT.coeffs[1:k+1], k)\n",
    "        vxTt = Taylor1( vxT.coeffs[1:k+1], k)\n",
    "        vyTt = Taylor1( vyT.coeffs[1:k+1], k)\n",
    "        # Eqs of motion <--- This as straight forward as it can be\n",
    "        xDot = vxTt\n",
    "        yDot = vyTt\n",
    "        rrt = ( xTt^2 + yTt^2 )^(3/2)\n",
    "        vxDot = -GM * xTt / rrt\n",
    "        vyDot = -GM * yTt / rrt\n",
    "        # The equations of motion define the recurrencies\n",
    "        xT.coeffs[knext+1]  = xDot.coeffs[knext] / knext\n",
    "        yT.coeffs[knext+1]  = yDot.coeffs[knext] / knext\n",
    "        vxT.coeffs[knext+1] = vxDot.coeffs[knext] / knext\n",
    "        vyT.coeffs[knext+1] = vyDot.coeffs[knext] / knext\n",
    "    end\n",
    "    \n",
    "    return Taylor1[ xT, yT, vxT, vyT ]\n",
    "end"
   ]
  },
  {
   "cell_type": "code",
   "execution_count": 10,
   "metadata": {
    "collapsed": false
   },
   "outputs": [
    {
     "data": {
      "text/plain": [
       "jetKepler2 (generic function with 1 method)"
      ]
     },
     "execution_count": 10,
     "metadata": {},
     "output_type": "execute_result"
    }
   ],
   "source": [
    "\n",
    "function jetKepler2{T<:Real}( vec::Array{T,1} )\n",
    "\n",
    "    xT = Taylor1(vec[1], _ordenTaylor)\n",
    "    yT = Taylor1(vec[2], _ordenTaylor)\n",
    "    vxT = Taylor1(vec[3], _ordenTaylor)\n",
    "    vyT = Taylor1(vec[4], _ordenTaylor)\n",
    "\n",
    "    # Auxiliary quantities\n",
    "    x2T = zeros( T, _ordenTaylor+1 )\n",
    "    y2T = zeros( T, _ordenTaylor+1 )\n",
    "    sT  = zeros( T, _ordenTaylor+1 )\n",
    "    rT3 = zeros( T, _ordenTaylor+1 )\n",
    "    Fx  = zeros( T, _ordenTaylor+1 )\n",
    "    Fy  = zeros( T, _ordenTaylor+1 )\n",
    "\n",
    "    # Now the implementation\n",
    "    for k = 0:_ordenTaylor-1\n",
    "        knext = k+1\n",
    "        # The right-hand size of the eqs of motion\n",
    "        # This is more adpated for this problem, and avoids many superflous operations\n",
    "        x2T[knext] = TaylorSeries.squareHomogCoef(k, xT.coeffs)\n",
    "        y2T[knext] = TaylorSeries.squareHomogCoef(k, yT.coeffs)\n",
    "        sT[knext]  = x2T[knext] + y2T[knext]\n",
    "        rT3[knext] = TaylorSeries.powHomogCoef(k, sT, 1.5, rT3, 0)\n",
    "        Fx[knext]  = TaylorSeries.divHomogCoef(k, xT.coeffs, rT3, Fx, 0)\n",
    "        Fy[knext]  = TaylorSeries.divHomogCoef(k, yT.coeffs, rT3, Fy, 0)\n",
    "        # The equations of motion define the recurrencies\n",
    "        xT.coeffs[knext+1]  = vxT.coeffs[knext] / knext\n",
    "        yT.coeffs[knext+1]  = vyT.coeffs[knext] / knext\n",
    "        vxT.coeffs[knext+1] = -GM * Fx[knext] / knext\n",
    "        vyT.coeffs[knext+1] = -GM * Fy[knext] / knext\n",
    "    end\n",
    "    \n",
    "    return Taylor1[ xT, yT, vxT, vyT ]\n",
    "end"
   ]
  },
  {
   "cell_type": "code",
   "execution_count": null,
   "metadata": {
    "collapsed": false
   },
   "outputs": [
    {
     "name": "stderr",
     "output_type": "stream",
     "text": [
      "Warning: could not attach metadata for @simd loop.\n",
      "Warning: could not attach metadata for @simd loop.\n"
     ]
    }
   ],
   "source": [
    "x0, y0, vx0, vy0 = iniCond(semieje, excentricidad)\n",
    "\n",
    "taylorStepper( jetKepler1, [x0, y0, vx0, vy0] );\n",
    "\n",
    "timeJK1 = @elapsed begin\n",
    "    for i=1:10\n",
    "        taylorStepper( jetKepler1, [x0, y0, vx0, vy0] );\n",
    "    end\n",
    "end\n",
    "taylorStepper( jetKepler1, [x0, y0, vx0, vy0] )"
   ]
  },
  {
   "cell_type": "code",
   "execution_count": null,
   "metadata": {
    "collapsed": true
   },
   "outputs": [],
   "source": []
  }
 ],
 "metadata": {
  "kernelspec": {
   "display_name": "Julia 0.3.11",
   "language": "julia",
   "name": "julia-0.3"
  },
  "language_info": {
   "file_extension": ".jl",
   "mimetype": "application/julia",
   "name": "julia",
   "version": "0.3.11"
  }
 },
 "nbformat": 4,
 "nbformat_minor": 0
}
