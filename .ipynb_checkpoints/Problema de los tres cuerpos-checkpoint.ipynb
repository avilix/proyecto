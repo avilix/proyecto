{
 "cells": [
  {
   "cell_type": "code",
   "execution_count": 1,
   "metadata": {
    "collapsed": true
   },
   "outputs": [],
   "source": [
    "using TaylorSeries"
   ]
  },
  {
   "cell_type": "code",
   "execution_count": 2,
   "metadata": {
    "collapsed": true
   },
   "outputs": [],
   "source": [
    "using Compat"
   ]
  },
  {
   "cell_type": "code",
   "execution_count": 3,
   "metadata": {
    "collapsed": false
   },
   "outputs": [
    {
     "data": {
      "text/plain": [
       "1.0"
      ]
     },
     "execution_count": 3,
     "metadata": {},
     "output_type": "execute_result"
    }
   ],
   "source": [
    "const _ordenTaylor = 15 #Entiendo que este se puede cambiar de acuerdo con el problema\n",
    "const _epsAbs = 1.0e-20 #Epsilon de la máquina.\n",
    "GM1=1.0 #También por simplicidad comenzaré diciendo que esto es uno.\n",
    "GM2=1.0 #Y que ambos cuerpos masivos tienen la misma masa. La masa m3 no afecta en el movimiento pues m3<<M1, M2"
   ]
  },
  {
   "cell_type": "code",
   "execution_count": 4,
   "metadata": {
    "collapsed": false
   },
   "outputs": [
    {
     "data": {
      "text/plain": [
       "iniCond3 (generic function with 1 method)"
      ]
     },
     "execution_count": 4,
     "metadata": {},
     "output_type": "execute_result"
    }
   ],
   "source": [
    "function iniCond1{T<:Real}(a::T) #En realidad no importa cuanto sea a\n",
    "    x01=5.0\n",
    "    y01=1.0\n",
    "    vx01=0.0\n",
    "    vy01=0.0 #Me pareció que por simplicidad podría poner a uno de los cuerpos en el origen\n",
    "    return x01,y01,vx01,vy01\n",
    "end\n",
    "\n",
    "function iniCond2{T<:Real}(a::T)\n",
    "    x02=10.0 #El siguiente a una distancia de 10 (km/cm/metros... ya lo decidiré después)\n",
    "    y02=5.0\n",
    "    vx02=0.0\n",
    "    vy02=0.0\n",
    "    return x02,y02,vx02,vy02\n",
    "end\n",
    "\n",
    "function iniCond3{T<:Real}(a::T)\n",
    "    x03=15.0#El cuerpo pequeño lo ponemos en algún lugar entre M1 y M2.Probemos primero ponerlo, justamente enmedio.\n",
    "    y03=5.0\n",
    "    vx03=0.0\n",
    "    vy03=0.0\n",
    "    return x03,y03,vx03,vy03\n",
    "end  "
   ]
  },
  {
   "cell_type": "code",
   "execution_count": 5,
   "metadata": {
    "collapsed": false
   },
   "outputs": [
    {
     "data": {
      "text/plain": [
       "taylorStepper (generic function with 1 method)"
      ]
     },
     "execution_count": 5,
     "metadata": {},
     "output_type": "execute_result"
    }
   ],
   "source": [
    "function taylorStepper{T<:Real}( jetEqs::Function, vec01::Array{T,1},vec02::Array{T,1},vec03::Array{T,1}) \n",
    "    #Las entradas serán una función y tres vectores \n",
    "    #cuyas entradas serán las condiciones iniciales de velocidad y posición en x y en y\n",
    "    #s sólo debe estar entre 1,2 ó 3\n",
    "\n",
    "    n = length( vec01 )\n",
    "    vec0T1 = Array(Taylor1{T},n)\n",
    "    vec0T2 = Array(Taylor1{T},n)\n",
    "    vec0T3 = Array(Taylor1{T},n)\n",
    "   \n",
    "    @simd for i in eachindex(vec01) #Trabajamos siempre con vectores de 4 elementos\n",
    "        @inbounds vec0T1[i] = Taylor1([vec01[i]], _ordenTaylor)\n",
    "        @inbounds vec0T2[i] = Taylor1([vec02[i]], _ordenTaylor)\n",
    "        @inbounds vec0T3[i] = Taylor1([vec03[i]], _ordenTaylor)\n",
    "    end\n",
    "     #Lo que entiendo de esta parte es que a cada entrada de vec0 se le convierte a formato de serie de Taylor.\n",
    "    #vec0T será un vector cuyas entradas son series de Taylor y las componentes independientes de cada uno de ellas\n",
    "    #son las componentes iniciales. Por ejemplo: vec0T=[x0+ ϑ(t²⁹),y0+ϑ(t²⁹),v0x+ϑ(t²⁹),v0y+ϑ(t²⁹)]\n",
    "    vec1T1,vec1T2,vec1T3 = jetEqs( vec01,vec02,vec03 )\n",
    "    #Aplicamos la función jetEqs a vec0.\n",
    "    #Creo que esta es la que va a construir el resto de los coeficientes de cada serie.\n",
    "    hh = Inf\n",
    "    @simd for i in eachindex(vec1T1)\n",
    "        @inbounds h1 = stepsize( vec1T1[i], _epsAbs ) #Stepsize regresa el error. Esta parte da un valor de h para \n",
    "        #cada una de las 4 series que se encuentran en el arreglo.\n",
    "        hh= min( hh, h1 ) #Supongo que esto es para asegurarnos que el valor h1 no sea infinito.\n",
    "    end\n",
    "    hh1=hh\n",
    "    hh = Inf\n",
    "    @simd for i in eachindex(vec1T2)\n",
    "        @inbounds h1= stepsize( vec1T2[i], _epsAbs )  \n",
    "        hh= min( hh, h1 ) \n",
    "    end\n",
    "    hh2=hh\n",
    "    hh = Inf\n",
    "    @simd for i in eachindex(vec1T3)\n",
    "        @inbounds h1= stepsize( vec1T3[i], _epsAbs )  \n",
    "        hh= min( hh, h1 ) \n",
    "    end\n",
    "    hd=min(hh1,hh2,hh)\n",
    "    \n",
    "    @simd for i in eachindex(vec01)\n",
    "        @inbounds vec01[i] = evaluate( vec1T1[i], hd ) #Evalúa vec1T (obtenido de Jeteqs) en el valor de error\n",
    "        #y lo coloca en la entrada correspondiente de vec0 (donde teníamos los valores iniciales). Supongo que ahora\n",
    "        #el vec0 es el valor de las posiciones y velocidades evaluadas en el tiempo hh. (es el primer avance en el\n",
    "        #tiempo)\n",
    "    end\n",
    "    \n",
    "    @simd for i in eachindex(vec02)\n",
    "        @inbounds vec02[i] = evaluate(vec1T2[i], hd)\n",
    "    end\n",
    "\n",
    "    @simd for i in eachindex(vec03)\n",
    "        @inbounds vec03[i] = evaluate( vec1T3[i], hd)\n",
    "    end\n",
    "    \n",
    "    return hd,vec01,vec02,vec03 #El paso del tiempo es el promedio del paso ideal para los 3 cuerpos.\n",
    "end\n",
    "#Importante saber: Esta función regresa el paso de tiempo y los vectores de velocidades y posiciones de cada masa\n",
    "#Evaluados en ese paso de tiempo."
   ]
  },
  {
   "cell_type": "code",
   "execution_count": 6,
   "metadata": {
    "collapsed": false
   },
   "outputs": [
    {
     "data": {
      "text/plain": [
       "stepsize (generic function with 1 method)"
      ]
     },
     "execution_count": 6,
     "metadata": {},
     "output_type": "execute_result"
    }
   ],
   "source": [
    "#Aquí no hay que hacer cambios.\n",
    "#Calcula el tamaño del paso\n",
    "function stepsize{T<:Real}(x::Taylor1{T}, epsilon::Float64)\n",
    "    #Tiene como entradas una serie de Taylor y la epsilon de lxa máquina\n",
    "    ord = x.order\n",
    "    h = Inf\n",
    "    for k in [ord-1, ord] #De las dos últimas entradas \n",
    "        kinv = 1.0/k\n",
    "        aux = abs(x.coeffs[k+1])\n",
    "        h = min(h, (epsilon/aux)^kinv)\n",
    "        #Literalmente sigue la fórmula del valor h\n",
    "    end\n",
    "    return h\n",
    "end"
   ]
  },
  {
   "cell_type": "code",
   "execution_count": 7,
   "metadata": {
    "collapsed": false
   },
   "outputs": [
    {
     "data": {
      "text/plain": [
       "jet (generic function with 1 method)"
      ]
     },
     "execution_count": 7,
     "metadata": {},
     "output_type": "execute_result"
    }
   ],
   "source": [
    "#Aquí hay que cambiar que en vez de una variable de posición en x, tenemos 3; lo mismo para las posiciones en y \n",
    "#y las velocidades en x y en y\n",
    "\n",
    "function jet{T<:Real}(vec1::Array{T,1}, vec2::Array{T,1}, vec3::Array{T,1}) #Hay tres vectores de entrada.\n",
    "\n",
    "    xT1= Taylor1(vec1[1], _ordenTaylor) #Del primer cuerpo M1\n",
    "    yT1= Taylor1(vec1[2], _ordenTaylor)\n",
    "    vxT1= Taylor1(vec1[3], _ordenTaylor)\n",
    "    vyT1= Taylor1(vec1[4], _ordenTaylor)\n",
    "    \n",
    "    xT2= Taylor1(vec2[1], _ordenTaylor) #Del segundo M2\n",
    "    yT2= Taylor1(vec2[2], _ordenTaylor)\n",
    "    vxT2= Taylor1(vec2[3], _ordenTaylor)\n",
    "    vyT2= Taylor1(vec2[4], _ordenTaylor)\n",
    "\n",
    "    xT3= Taylor1(vec3[1], _ordenTaylor) #Del tercero m3 (el orden realmente no importa jeje)\n",
    "    yT3= Taylor1(vec3[2], _ordenTaylor)\n",
    "    vxT3= Taylor1(vec3[3], _ordenTaylor)\n",
    "    vyT3= Taylor1(vec3[4], _ordenTaylor)\n",
    "    #Se guardan los valores iniciales en el lugar del término independiente. Pero a medida que avanza el loop de\n",
    "    #abajo, se van llenando en estas variables, el resto de los términos de la serie de Taylor.\n",
    "    for k = 0:_ordenTaylor-1\n",
    "        knext = k+1 #Esto se necesita por el hecho de empezar desde cero.\n",
    "\n",
    "        xTt1= Taylor1(xT1.coeffs[1:k+1], k) #Se \"copian\" los términos de la serie que ya se tenían\n",
    "        yTt1= Taylor1(yT1.coeffs[1:k+1], k)\n",
    "        vxTt1= Taylor1(vxT1.coeffs[1:k+1], k)\n",
    "        vyTt1= Taylor1(vyT1.coeffs[1:k+1], k)\n",
    "        \n",
    "        xTt2= Taylor1(xT2.coeffs[1:k+1], k) \n",
    "        yTt2= Taylor1(yT2.coeffs[1:k+1], k)\n",
    "        vxTt2= Taylor1(vxT2.coeffs[1:k+1], k)\n",
    "        vyTt2= Taylor1(vyT2.coeffs[1:k+1], k) \n",
    "        \n",
    "        xTt3= Taylor1(xT3.coeffs[1:k+1], k) \n",
    "        yTt3= Taylor1(yT3.coeffs[1:k+1], k)\n",
    "        vxTt3= Taylor1(vxT3.coeffs[1:k+1], k)\n",
    "        vyTt3= Taylor1(vyT3.coeffs[1:k+1], k)\n",
    "        \n",
    "        \n",
    "        xDot1 = vxTt1 #Las ecuaciones\n",
    "        yDot1 = vyTt1\n",
    "        rrt1 = ( (xTt1-xTt2)^2 + (yTt1-yTt2)^2 )^(3/2)\n",
    "        vxDot1 = -GM2*(xTt1-xTt2) / rrt1\n",
    "        vyDot1 = -GM2*(yTt1-yTt2) / rrt1\n",
    "        \n",
    "\n",
    "        xDot2 = vxTt2 #Ojo:cambiar esta parte si quisiera modificar el código para que M1 y M2 fueran distintas.\n",
    "        yDot2 = vyTt2 #Lo puse así para que la compu no calculara algo que ya estaba calculado.\n",
    "        vxDot2 = -vxDot1\n",
    "        vyDot2 = -vyDot1\n",
    "        \n",
    "        \n",
    "                        \n",
    "        xDot3 = vxTt3\n",
    "        yDot3 = vyTt3 \n",
    "        rrt3a=((xTt3-xTt1)^2 + (yTt3-yTt1)^2 )^(3/2)\n",
    "        rrt3b=((xTt3-xTt2)^2 + (yTt3-yTt2)^2 )^(3/2)\n",
    "        vxDot3 = -GM1*((xTt3-xTt1)/ rrt3a) #También cambiar esta parte. Agregar GM2.\n",
    "        vyDot3 = -GM1*((yTt3-yTt1)/ rrt3a) \n",
    "        \n",
    "\n",
    "        \n",
    "        xT1.coeffs[knext+1]  = xDot1.coeffs[knext] / knext \n",
    "        yT1.coeffs[knext+1]  = yDot1.coeffs[knext] / knext \n",
    "        vxT1.coeffs[knext+1] = vxDot1.coeffs[knext] / knext\n",
    "        vyT1.coeffs[knext+1] = vyDot1.coeffs[knext] / knext\n",
    "        \n",
    "                \n",
    "        xT2.coeffs[knext+1]  = xDot2.coeffs[knext] / knext \n",
    "        yT2.coeffs[knext+1]  = yDot2.coeffs[knext] / knext \n",
    "        vxT2.coeffs[knext+1] = vxDot2.coeffs[knext] / knext\n",
    "        vyT2.coeffs[knext+1] = vyDot2.coeffs[knext] / knext\n",
    "        \n",
    "                \n",
    "        xT3.coeffs[knext+1]  = xDot3.coeffs[knext] / knext  \n",
    "        yT3.coeffs[knext+1]  = yDot3.coeffs[knext] / knext \n",
    "        vxT3.coeffs[knext+1] = vxDot3.coeffs[knext] / knext\n",
    "        vyT3.coeffs[knext+1] = vyDot3.coeffs[knext] / knext\n",
    "    end\n",
    "    \n",
    "    return Taylor1[ xT1, yT1, vxT1, vyT1 ], Taylor1[ xT2, yT2, vxT2, vyT2 ], Taylor1[ xT3, yT3, vxT3, vyT3 ]\n",
    "end\n",
    "# Importante saber: esta función me sirve para taylorstepper"
   ]
  },
  {
   "cell_type": "code",
   "execution_count": 16,
   "metadata": {
    "collapsed": false
   },
   "outputs": [
    {
     "data": {
      "text/plain": [
       "Integration (generic function with 1 method)"
      ]
     },
     "execution_count": 16,
     "metadata": {},
     "output_type": "execute_result"
    }
   ],
   "source": [
    "function Integration(time_max::Float64, jetEqs::Function)\n",
    "    # Por ahora no incluí la energía ni el momento angular. Después lo incluiré de ser necesario.\n",
    "    t0 = 0.0\n",
    "    x01, y01, vx01, vy01 = iniCond1(1) #Definí la función iniCond sólo para no tener que poner tantas variables\n",
    "    x02, y02, vx02, vy02 = iniCond2(1) #como argumento de la funcíón Integration. \n",
    "    x03, y03, vx03, vy03 = iniCond3(1) \n",
    "   \n",
    "    #Para graficar con Pyplot\n",
    "    tV,xV1, yV1, vxV1, vyV1 = Float64[], Float64[], Float64[], Float64[], Float64[]\n",
    "    xV2, yV2, vxV2, vyV2 = Float64[], Float64[], Float64[], Float64[]\n",
    "    xV3, yV3, vxV3, vyV3 = Float64[], Float64[], Float64[], Float64[]\n",
    "    \n",
    "    push!(tV, t0) \n",
    "    push!(xV1, x01)\n",
    "    push!(yV1, y01)\n",
    "    push!(vxV1, vx01)\n",
    "    push!(vyV1, vy01)\n",
    "    push!(xV2, x02)\n",
    "    push!(yV2, y02)\n",
    "    push!(vxV2, vx02)\n",
    "    push!(vyV2, vy02)\n",
    "    push!(xV3, x03)\n",
    "    push!(yV3, y03)\n",
    "    push!(vxV3, vx03)\n",
    "    push!(vyV3, vy03)\n",
    "    \n",
    "    A1=[x01, y01, vx01, vy01]\n",
    "    A2=[x02, y02, vx02, vy02]\n",
    "    A3=[x03, y03, vx03, vy03]\n",
    "    dt= 1.0 \n",
    "    while t0< time_max && dt>1.0e-9\n",
    "        dt, (x1, y1, vx1, vy1),(x2, y2, vx2, vy2),(x3, y3, vx3, vy3) = taylorStepper(jetEqs,A1,A2,A3); #obtener\n",
    "        #las series evaluadas en el tiempo t0. Se obtienen velocidades y posiciones en x y en y. También da h\n",
    "        t0 += dt #Avanzar en el tiempo y volverlo a hacer (con el while)\n",
    "        push!(tV,t0) #Ir llenando las listas\n",
    "        push!(xV1,x1)\n",
    "        push!(yV1,y1)\n",
    "        push!(vxV1,vx1)\n",
    "        push!(vyV1,vy1)\n",
    "        A1=[x1,y1,vx1,vy1]\n",
    "        push!(xV2,x2)\n",
    "        push!(yV2,y2)\n",
    "        push!(vxV2,vx2)\n",
    "        push!(vyV2,vy2)\n",
    "        A2=[x2,y2,vx2,vy2]\n",
    "        push!(xV3,x3)\n",
    "        push!(yV3,y3)\n",
    "        push!(vxV3,vx3)\n",
    "        push!(vyV3,vy3)\n",
    "        A3=[x3,y3,vx3,vy3]\n",
    "    end\n",
    "\n",
    "    return tV,xV1,yV1,xV2,yV2,xV3,yV3\n",
    "end"
   ]
  },
  {
   "cell_type": "code",
   "execution_count": 17,
   "metadata": {
    "collapsed": false
   },
   "outputs": [
    {
     "data": {
      "text/plain": [
       "([0.0,0.608432,1.20803,1.78644,2.33334,2.85188,3.34389,3.81086,4.2541,4.67486  …  12.7256,12.7256,12.7256,12.7256,12.7256,12.7256,12.7256,12.7256,12.7256,12.7256],[5.0,5.00353,5.01392,5.03051,5.05221,5.07827,5.10804,5.14096,5.17651,5.21427  …  7.49999,7.49999,7.49999,7.49999,7.49999,7.49999,7.49999,7.49999,7.49999,7.49999],[1.0,1.00282,1.01114,1.02441,1.04177,1.06262,1.08643,1.11276,1.14121,1.17142  …  2.99999,2.99999,2.99999,2.99999,2.99999,2.99999,2.99999,2.99999,2.99999,2.99999],[10.0,9.99647,9.98608,9.96949,9.94779,9.92173,9.89196,9.85904,9.82349,9.78573  …  7.50001,7.50001,7.50001,7.50001,7.50001,7.50001,7.50001,7.50001,7.50001,7.50001],[5.0,4.99718,4.98886,4.97559,4.95823,4.93738,4.91357,4.88724,4.85879,4.82858  …  3.00001,3.00001,3.00001,3.00001,3.00001,3.00001,3.00001,3.00001,3.00001,3.00001],[15.0,14.9985,14.9942,14.9872,14.9781,14.9673,14.955,14.9414,14.9269,14.9115  …  14.2793,14.2793,14.2793,14.2793,14.2793,14.2793,14.2793,14.2793,14.2793,14.2793],[5.0,4.99941,4.99766,4.99489,4.99127,4.98694,4.98203,4.97663,4.97084,4.96474  …  4.72284,4.72284,4.72284,4.72284,4.72284,4.72284,4.72284,4.72284,4.72284,4.72284])"
      ]
     },
     "execution_count": 17,
     "metadata": {},
     "output_type": "execute_result"
    }
   ],
   "source": [
    "tV, xV1, yV1, xV2, yV2, xV3, yV3  = Integration(300.0,jet)"
   ]
  },
  {
   "cell_type": "code",
   "execution_count": 10,
   "metadata": {
    "collapsed": false
   },
   "outputs": [
    {
     "name": "stderr",
     "output_type": "stream",
     "text": [
      "INFO: Loading help data...\n",
      "Warning: using PyPlot.jet in module Main conflicts with an existing identifier.\n"
     ]
    }
   ],
   "source": [
    "using PyPlot"
   ]
  },
  {
   "cell_type": "code",
   "execution_count": 18,
   "metadata": {
    "collapsed": false
   },
   "outputs": [
    {
     "data": {
      "image/png": "[encoded data removed]",
      "text/plain": [
       "Figure(PyObject <matplotlib.figure.Figure object at 0x7f7c2b81f050>)"
      ]
     },
     "metadata": {},
     "output_type": "display_data"
    },
    {
     "data": {
      "text/plain": [
       "3-element Array{Any,1}:\n",
       " PyObject <matplotlib.lines.Line2D object at 0x7f7c2b6c1b10>\n",
       " PyObject <matplotlib.lines.Line2D object at 0x7f7c2b6c1d90>\n",
       " PyObject <matplotlib.lines.Line2D object at 0x7f7c2b6ce490>"
      ]
     },
     "execution_count": 18,
     "metadata": {},
     "output_type": "execute_result"
    }
   ],
   "source": [
    "plot(xV1,yV1,xV2,yV2,xV3,yV3)"
   ]
  },
  {
   "cell_type": "code",
   "execution_count": 12,
   "metadata": {
    "collapsed": false
   },
   "outputs": [
    {
     "data": {
      "text/plain": [
       "426-element Array{Float64,1}:\n",
       " 15.0   \n",
       " 14.9985\n",
       " 14.9942\n",
       " 14.9872\n",
       " 14.9781\n",
       " 14.9673\n",
       " 14.955 \n",
       " 14.9414\n",
       " 14.9269\n",
       " 14.9115\n",
       " 14.8955\n",
       " 14.8791\n",
       " 14.8623\n",
       "  ⋮     \n",
       " 14.2793\n",
       " 14.2793\n",
       " 14.2793\n",
       " 14.2793\n",
       " 14.2793\n",
       " 14.2793\n",
       " 14.2793\n",
       " 14.2793\n",
       " 14.2793\n",
       " 14.2793\n",
       " 14.2793\n",
       " 14.2793"
      ]
     },
     "execution_count": 12,
     "metadata": {},
     "output_type": "execute_result"
    }
   ],
   "source": [
    "xV3"
   ]
  },
  {
   "cell_type": "code",
   "execution_count": null,
   "metadata": {
    "collapsed": true
   },
   "outputs": [],
   "source": []
  }
 ],
 "metadata": {
  "kernelspec": {
   "display_name": "Julia 0.3.11",
   "language": "julia",
   "name": "julia-0.3"
  },
  "language_info": {
   "file_extension": ".jl",
   "mimetype": "application/julia",
   "name": "julia",
   "version": "0.3.11"
  }
 },
 "nbformat": 4,
 "nbformat_minor": 0
}
