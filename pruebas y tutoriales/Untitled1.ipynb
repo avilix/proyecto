{
 "cells": [
  {
   "cell_type": "code",
   "execution_count": 1,
   "metadata": {
    "collapsed": true
   },
   "outputs": [],
   "source": [
    "using TaylorSeries"
   ]
  },
  {
   "cell_type": "code",
   "execution_count": 2,
   "metadata": {
    "collapsed": true
   },
   "outputs": [],
   "source": [
    "using Compat"
   ]
  },
  {
   "cell_type": "code",
   "execution_count": 3,
   "metadata": {
    "collapsed": false
   },
   "outputs": [
    {
     "data": {
      "text/plain": [
       "2.0"
      ]
     },
     "execution_count": 3,
     "metadata": {},
     "output_type": "execute_result"
    }
   ],
   "source": [
    "const _ordenTaylor = 28 #Entiendo que este se puede cambiar de acuerdo con el problema\n",
    "const _epsAbs = 1.0e-20 #Epsilon de la máquina.\n",
    "GM1=1.0\n",
    "GM2=2.0"
   ]
  },
  {
   "cell_type": "code",
   "execution_count": 4,
   "metadata": {
    "collapsed": false
   },
   "outputs": [
    {
     "data": {
      "text/plain": [
       "IniCond (generic function with 1 method)"
      ]
     },
     "execution_count": 4,
     "metadata": {},
     "output_type": "execute_result"
    }
   ],
   "source": [
    "function IniCond(g::Float64)\n",
    "    x0=5.0\n",
    "    y0=5.0\n",
    "    vx0=0.0\n",
    "    vy0=0.0\n",
    "    return x0,y0,vx0,vy0\n",
    "end"
   ]
  },
  {
   "cell_type": "code",
   "execution_count": 5,
   "metadata": {
    "collapsed": false
   },
   "outputs": [
    {
     "data": {
      "text/plain": [
       "taylorStepper (generic function with 1 method)"
      ]
     },
     "execution_count": 5,
     "metadata": {},
     "output_type": "execute_result"
    }
   ],
   "source": [
    "function taylorStepper{T<:Real}( jetEqs::Function, vec0::Array{T,1} ) #Las entradas serán una función y un vector \n",
    "    #cuyas entradas serán las condiciones iniciales de velocidad y posición en x y en y\n",
    "    n = length( vec0 )\n",
    "    vec0T = Array(Taylor1{T},n)\n",
    "    @simd for i in eachindex(vec0)\n",
    "        @inbounds vec0T[i] = Taylor1([vec0[i]], _ordenTaylor)\n",
    "    end\n",
    "    #Lo que entiendo de esta parte es que a cada entrada de vec0 se le convierte a formato de serie de Taylor.\n",
    "    #vec0T será un vector cuyas entradas son series de Taylor y las componentes independientes de cada uno de ellas\n",
    "    #son las componentes iniciales. Por ejemplo: vec0T=[x0+ ϑ(t²⁹),y0+ϑ(t²⁹),v0x+ϑ(t²⁹),v0y+ϑ(t²⁹)]\n",
    "    vec1T = jetEqs( vec0 )\n",
    "    #Aplicamos la función jetEqs a vec0.\n",
    "    #Creo que esta es la que va a construir el resto de los coeficientes de cada serie.\n",
    "    hh = Inf\n",
    "    @simd for i in eachindex(vec1T)\n",
    "        @inbounds h1 = stepsize( vec1T[i], _epsAbs ) #Stepsize regresa el error. Esta parte da un valor de h para \n",
    "        #cada una de las 4 series que se encuentran en el arreglo.\n",
    "        hh = min( hh, h1 ) #Supongo que esto es para asegurarnos que el valor h1 no sea infinito.\n",
    "    end\n",
    "    \n",
    "    @simd for i in eachindex(vec0)\n",
    "        @inbounds vec0[i] = evaluate( vec1T[i], hh ) #Evalúa vec1T (obtenido de Jeteqs) en el valor de error\n",
    "        #y lo coloca en la entrada correspondiente de vec0 (donde teníamos los valores iniciales). Supongo que ahora\n",
    "        #el vec0 es el valor de las posiciones y velocidades evaluadas en el tiempo hh. (es el primer avance en el\n",
    "        #tiempo)\n",
    "    end\n",
    "    \n",
    "    return hh, vec0\n",
    "end"
   ]
  },
  {
   "cell_type": "code",
   "execution_count": 6,
   "metadata": {
    "collapsed": false
   },
   "outputs": [
    {
     "data": {
      "text/plain": [
       "stepsize (generic function with 1 method)"
      ]
     },
     "execution_count": 6,
     "metadata": {},
     "output_type": "execute_result"
    }
   ],
   "source": [
    "#Calcula el tamaño del paso\n",
    "function stepsize{T<:Real}(x::Taylor1{T}, epsilon::Float64)\n",
    "    #Tiene como entradas una serie de Taylor y la epsilon de la máquina\n",
    "    ord = x.order\n",
    "    h = Inf\n",
    "    for k in [ord-1, ord] #De las dos últimas entradas \n",
    "        kinv = 1.0/k\n",
    "        aux = abs(x.coeffs[k+1])\n",
    "        h = min(h, (epsilon/aux)^kinv)\n",
    "        #Literalmente sigue la fórmula del valor h\n",
    "    end\n",
    "    return h\n",
    "end"
   ]
  },
  {
   "cell_type": "code",
   "execution_count": 12,
   "metadata": {
    "collapsed": false
   },
   "outputs": [
    {
     "data": {
      "text/plain": [
       "jet (generic function with 1 method)"
      ]
     },
     "execution_count": 12,
     "metadata": {},
     "output_type": "execute_result"
    }
   ],
   "source": [
    "function jet{T<:Real}( vec::Array{T,1} )\n",
    "\n",
    "    s=10.0\n",
    "    xT = Taylor1(vec[1], _ordenTaylor)\n",
    "    yT = Taylor1(vec[2], _ordenTaylor)\n",
    "    vxT = Taylor1(vec[3], _ordenTaylor)\n",
    "    vyT = Taylor1(vec[4], _ordenTaylor)\n",
    "    #Se guardan los valores iniciales en el lugar del término independiente. Pero a medida que avanza el loop de\n",
    "    #abajo, se van llenando en estas variables, el resto de los términos de la serie de Taylor.\n",
    "    for k = 0:_ordenTaylor-1\n",
    "        knext = k+1 #Esto se necesita por el hecho de empezar desde cero.\n",
    "\n",
    "        xTt = Taylor1( xT.coeffs[1:k+1], k) #Se \"copian\" los términos de la serie que ya se tenían\n",
    "        yTt = Taylor1( yT.coeffs[1:k+1], k)\n",
    "        vxTt = Taylor1( vxT.coeffs[1:k+1], k)\n",
    "        vyTt = Taylor1( vyT.coeffs[1:k+1], k)\n",
    "        \n",
    "        xDot = vxTt #Se escriben las ecuaciones de movimiento.\n",
    "        yDot = vyTt\n",
    "        rrt = ( xTt^2 + yTt^2 )^(3/2)\n",
    "        rrt1=((xTt)^2 + yTt^2 )^(3/2)\n",
    "        vxDot = -GM1 * ((xTt / rrt))\n",
    "        vyDot = -GM1 * (yTt / rrt)\n",
    "        \n",
    "        xT.coeffs[knext+1]  = xDot.coeffs[knext] / knext #Con formulazo, se calculan los siguientes coeficientes de \n",
    "        yT.coeffs[knext+1]  = yDot.coeffs[knext] / knext #cada serie.\n",
    "        vxT.coeffs[knext+1] = vxDot.coeffs[knext] / knext\n",
    "        vyT.coeffs[knext+1] = vyDot.coeffs[knext] / knext\n",
    "    end\n",
    "    \n",
    "    return Taylor1[ xT, yT, vxT, vyT ]\n",
    "end"
   ]
  },
  {
   "cell_type": "code",
   "execution_count": 8,
   "metadata": {
    "collapsed": false
   },
   "outputs": [
    {
     "data": {
      "text/plain": [
       "keplerIntegration (generic function with 1 method)"
      ]
     },
     "execution_count": 8,
     "metadata": {},
     "output_type": "execute_result"
    }
   ],
   "source": [
    "function keplerIntegration(time_max::Float64, jetEqs::Function )\n",
    "    # Initial conditions, energy and angular momentum\n",
    "    t0 = 0.0\n",
    "    x0, y0, vx0, vy0 = IniCond(1.0)\n",
    "\n",
    "    tV, xV, yV, vxV, vyV = Float64[], Float64[], Float64[], Float64[], Float64[]\n",
    "    push!(tV, t0)\n",
    "    push!(xV, x0)\n",
    "    push!(yV, y0)\n",
    "    push!(vxV, vx0)\n",
    "    push!(vyV, vy0)\n",
    "\n",
    "    \n",
    "    # This is the main loop; we include a minimum step size for security\n",
    "    dt = 1.0\n",
    "    while t0 < time_max && dt>1.0e-8\n",
    "        # Here we integrate\n",
    "        dt, (x1, y1, vx1, vy1) = taylorStepper( jetEqs, [x0, y0, vx0, vy0] ); #Hacer esto una vez significa obtener\n",
    "        #las series evaluadas en el tiempo t0. Se obtienen velocidades y posiciones en x y en y.\n",
    "        t0 += dt #Avanzar en el tiempo y volverlo a hacer (con el while)\n",
    "        push!(tV,t0) #Supongo que ir llenando los arrays\n",
    "        push!(xV,x1)\n",
    "        push!(yV,y1)\n",
    "        push!(vxV, vx1)\n",
    "        push!(vyV, vy1)\n",
    "        x0, y0, vx0, vy0 = x1, y1, vx1, vy1\n",
    "    end\n",
    "\n",
    "    return tV, xV, yV\n",
    "end"
   ]
  },
  {
   "cell_type": "code",
   "execution_count": 15,
   "metadata": {
    "collapsed": false
   },
   "outputs": [
    {
     "data": {
      "text/plain": [
       "([0.0,4.35217,7.87774,10.6439,12.8159,14.5225,15.8643,16.9203,17.7518,18.407  …  20.8849,20.8849,20.8849,20.8849,20.8849,20.8849,20.8849,20.8849,20.8849,20.8849],[5.0,4.86484,4.54744,4.15016,3.72882,3.31423,2.92296,2.56315,2.23797,1.94765  …  4.6195e-5,4.07657e-5,3.59859e-5,3.17766e-5,2.80685e-5,2.48009e-5,2.19205e-5,1.93806e-5,1.71403e-5,1.51636e-5],[5.0,4.86484,4.54744,4.15016,3.72882,3.31423,2.92296,2.56315,2.23797,1.94765  …  4.6195e-5,4.07657e-5,3.59859e-5,3.17766e-5,2.80685e-5,2.48009e-5,2.19205e-5,1.93806e-5,1.71403e-5,1.51636e-5])"
      ]
     },
     "execution_count": 15,
     "metadata": {},
     "output_type": "execute_result"
    }
   ],
   "source": [
    "t,x,y=keplerIntegration(100.00, jet)"
   ]
  },
  {
   "cell_type": "code",
   "execution_count": 10,
   "metadata": {
    "collapsed": false
   },
   "outputs": [
    {
     "name": "stderr",
     "output_type": "stream",
     "text": [
      "INFO: Loading help data...\n",
      "Warning: using PyPlot.jet in module Main conflicts with an existing identifier.\n"
     ]
    }
   ],
   "source": [
    "using PyPlot"
   ]
  },
  {
   "cell_type": "code",
   "execution_count": 16,
   "metadata": {
    "collapsed": false
   },
   "outputs": [
    {
     "data": {
      "image/png": "[encoded data removed]",
      "text/plain": [
       "Figure(PyObject <matplotlib.figure.Figure object at 0x7fe4d898b3d0>)"
      ]
     },
     "metadata": {},
     "output_type": "display_data"
    },
    {
     "data": {
      "text/plain": [
       "4-element Array{Any,1}:\n",
       " PyObject <matplotlib.lines.Line2D object at 0x7fe4d891d4d0>\n",
       " PyObject <matplotlib.lines.Line2D object at 0x7fe4d891d750>\n",
       " PyObject <matplotlib.lines.Line2D object at 0x7fe4d891ddd0>\n",
       " PyObject <matplotlib.lines.Line2D object at 0x7fe4d8929410>"
      ]
     },
     "execution_count": 16,
     "metadata": {},
     "output_type": "execute_result"
    }
   ],
   "source": [
    "plot(x,y,[0],[0],\"o\",[10],[0],\"o\",[5],[5],\"o\")"
   ]
  },
  {
   "cell_type": "code",
   "execution_count": null,
   "metadata": {
    "collapsed": true
   },
   "outputs": [],
   "source": []
  }
 ],
 "metadata": {
  "kernelspec": {
   "display_name": "Julia 0.3.11",
   "language": "julia",
   "name": "julia-0.3"
  },
  "language_info": {
   "file_extension": ".jl",
   "mimetype": "application/julia",
   "name": "julia",
   "version": "0.3.11"
  }
 },
 "nbformat": 4,
 "nbformat_minor": 0
}
