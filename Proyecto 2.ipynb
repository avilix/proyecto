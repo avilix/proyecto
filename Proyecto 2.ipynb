{
 "cells": [
  {
   "cell_type": "code",
   "execution_count": 1,
   "metadata": {
    "collapsed": true
   },
   "outputs": [],
   "source": [
    "## Integrador de Taylor"
   ]
  },
  {
   "cell_type": "code",
   "execution_count": 7,
   "metadata": {
    "collapsed": false
   },
   "outputs": [
    {
     "ename": "LoadError",
     "evalue": "TaylorSeries not found\nwhile loading In[7], in expression starting on line 2",
     "output_type": "error",
     "traceback": [
      "TaylorSeries not found\nwhile loading In[7], in expression starting on line 2",
      "",
      " in require at loading.jl:47"
     ]
    }
   ],
   "source": [
    "#### Funciones para el Integrador\n",
    "using TaylorSeries #Este es el comentario de Silvia :)"
   ]
  },
  {
   "cell_type": "code",
   "execution_count": 8,
   "metadata": {
    "collapsed": false
   },
   "outputs": [
    {
     "ename": "LoadError",
     "evalue": "Taylor not defined\nwhile loading In[8], in expression starting on line 2",
     "output_type": "error",
     "traceback": [
      "Taylor not defined\nwhile loading In[8], in expression starting on line 2",
      ""
     ]
    }
   ],
   "source": [
    "# function for Taylor's series\n",
    "function serieTaylorProblemaKepler!(x::Taylor,y::Taylor,vx::Taylor,vy::Taylor,f::Function)\n",
    "\n",
    "    p = x.orden\n",
    "    \n",
    "    for  i = 0:p-1\n",
    "        \n",
    "        xT = Taylor(x.v[1:i+1],i)\n",
    "        yT = Taylor(y.v[1:i+1],i)\n",
    "        vxT = Taylor(vx.v[1:i+1],i)        \n",
    "        vyT = Taylor(vy.v[1:i+1],i)\n",
    "        \n",
    "        \n",
    "        xTT,yTT,vxTT,vyTT = f(xT,yT,vxT,vyT)\n",
    "\n",
    "\n",
    "        x.v[i+2] = xTT.v[i+1]/(i + 1)\n",
    "        y.v[i+2] = yTT.v[i+1]/(i + 1)\n",
    "        vx.v[i+2] = vxTT.v[i+1]/(i + 1)\n",
    "        vy.v[i+2] = vyTT.v[i+1]/(i + 1)\n",
    "    end \n",
    "\n",
    "    return x,y,vx,vy\n",
    "end"
   ]
  },
  {
   "cell_type": "code",
   "execution_count": 9,
   "metadata": {
    "collapsed": false
   },
   "outputs": [
    {
     "ename": "LoadError",
     "evalue": "Taylor not defined\nwhile loading In[9], in expression starting on line 2",
     "output_type": "error",
     "traceback": [
      "Taylor not defined\nwhile loading In[9], in expression starting on line 2",
      ""
     ]
    }
   ],
   "source": [
    "# step in the integration\n",
    "function tstep(x::Taylor,y::Taylor,vx::Taylor,vy::Taylor,epsi) \n",
    "    paso_x = (epsi/abs(x.v[end]))^(1/x.orden)\n",
    "    paso_y = (epsi/abs(y.v[end]))^(1/y.orden)\n",
    "    paso_vx = (epsi/abs(vx.v[end]))^(1/vx.orden)\n",
    "    paso_vy = (epsi/abs(vy.v[end]))^(1/vy.orden)\n",
    "    paso = min(paso_x,paso_y,paso_vx,paso_vy)\n",
    "    return paso\n",
    "end\n"
   ]
  },
  {
   "cell_type": "code",
   "execution_count": 10,
   "metadata": {
    "collapsed": false
   },
   "outputs": [
    {
     "ename": "LoadError",
     "evalue": "Taylor not defined\nwhile loading In[10], in expression starting on line 2",
     "output_type": "error",
     "traceback": [
      "Taylor not defined\nwhile loading In[10], in expression starting on line 2",
      ""
     ]
    }
   ],
   "source": [
    "# step in the integration\n",
    "function tstep(x::Taylor,y::Taylor,z::Taylor,vx::Taylor,vy::Taylor,vz::Taylor,epsi) \n",
    "    paso_x = (epsi/abs(x.v[end]))^(1/x.orden)\n",
    "    paso_y = (epsi/abs(y.v[end]))^(1/y.orden)\n",
    "    paso_z = (epsi/abs(z.v[end]))^(1/z.orden)\n",
    "    paso_vx = (epsi/abs(vx.v[end]))^(1/vx.orden)\n",
    "    paso_vy = (epsi/abs(vy.v[end]))^(1/vy.orden)\n",
    "    paso_vz = (epsi/abs(vz.v[end]))^(1/vz.orden)\n",
    "    paso = min(paso_x,paso_y,paso_z,paso_vx,paso_vy,paso_vz)\n",
    "    return paso\n",
    "end"
   ]
  },
  {
   "cell_type": "code",
   "execution_count": null,
   "metadata": {
    "collapsed": true
   },
   "outputs": [],
   "source": []
  },
  {
   "cell_type": "code",
   "execution_count": null,
   "metadata": {
    "collapsed": true
   },
   "outputs": [],
   "source": []
  }
 ],
 "metadata": {
  "kernelspec": {
   "display_name": "Julia 0.3.11",
   "language": "julia",
   "name": "julia-0.3"
  },
  "language_info": {
   "file_extension": ".jl",
   "mimetype": "application/julia",
   "name": "julia",
   "version": "0.3.11"
  }
 },
 "nbformat": 4,
 "nbformat_minor": 0
}
